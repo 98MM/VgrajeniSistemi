{
 "cells": [
  {
   "cell_type": "markdown",
   "id": "48f33f3f-9c09-45f6-9dd9-bd7c70e6d6cf",
   "metadata": {},
   "source": [
    "## **_Zajem gibanja telesa iz videa - uvoz v program Blender_** "
   ]
  },
  {
   "cell_type": "markdown",
   "id": "5fd9da9e-f5f0-446e-9581-d01198291695",
   "metadata": {},
   "source": [
    "[Blender](https://www.blender.org/) je brezplačen, odprtokoden program za ustvarjanje 3D modelov, animiacij in grafik.\n",
    "\n",
    "Z različico 3.3, so avtorji programa Blender uporabnikom omogočili pisanje lastnih skript v programskem jeziku kode, kar bomo uporabili za uvoz prečiščenih podatkov zajema gibanja.\n",
    "\n",
    "Za uvažanje zajetega gibanja, je bilo potrebno podatke ločiti na posamezne mejnike. To nam je olajšalo avtomatizacijo procesa ustvarjanja telesa, ki predstavlja ta mejnik, in uvažanja podatkov o lokaciji le-tega, ter ustvarjanja animacije. Naša skripta uvozi podatke vseh mejnikov, shranjenih v datoteki _landmark\\_data_, ustvari krogle in pravilno nastavi lokacijo krogel, ki predstavljajo zaznane mejnike.\n",
    "\n",
    "Krogle lahko uporabimo kot \"sklepe\", ki vodijo animacijo 3D telesa. Celoten video v višji kvaliteti je dostopen na GitHub repozitoriju v mapi 'render'. Blender projekt je prav tako dostopen na GitHub repozitoriju, v "
   ]
  },
  {
   "cell_type": "markdown",
   "id": "0e0efe21-597a-4cfe-afdc-d6b98771ff51",
   "metadata": {},
   "source": [
    "![Animacija](./render/MoCapRenderClip.gif)"
   ]
  },
  {
   "cell_type": "code",
   "execution_count": null,
   "id": "85c43626-39c0-4d70-a15b-b65c8bdc91bd",
   "metadata": {},
   "outputs": [],
   "source": [
    "#Python skripta, uporabljena v programu Blender, ki ustvari krogle in jim priredi animacijo\n",
    "\n",
    "import bpy\n",
    "import csv\n",
    "import os\n",
    "\n",
    "def parse_csv_data(path):\n",
    "    \"\"\"\n",
    "        Parses individual landmark csv, returns as list of lists for each frame of the animation\n",
    "    \"\"\"\n",
    "    with open(path, 'r') as f:\n",
    "        reader = csv.reader(f)\n",
    "        mocap_data = []\n",
    "        for r in reader:\n",
    "            frame = int(r[0])\n",
    "            x = float(r[1])\n",
    "            y = float(r[2])\n",
    "            z = float(r[3])\n",
    "\n",
    "            mocap_data.append((frame, x, y, z))\n",
    "    \n",
    "    return mocap_data\n",
    "\n",
    "def create_sphere(x, y, z):\n",
    "    bpy.ops.object.select_all(action='DESELECT')    #Deselects any previously selected objects in our scene\n",
    "    bpy.ops.mesh.primitive_uv_sphere_add(radius=0.3, location=(x,y,z))    #Creates primitive UV Sphere at the provided location\n",
    "    sphere = bpy.context.object\n",
    "    return sphere\n",
    "\n",
    "def create_animation(sphere, mocap_data):\n",
    "    sphere.animation_data_create()    #Creates fresh animation queue for our object\n",
    "    sphere.animation_data.action = bpy.data.actions.new(name=\"MocapAnimation\")\n",
    "    fcurves = [sphere.animation_data.action.fcurves.new(data_path='location', index=i) for i in range(3)] #Fcurves represent the path each object takes\n",
    "    \n",
    "    for frame, x, y, z in mocap_data:\n",
    "        for i, fcurve in enumerate(fcurves):\n",
    "            keyframe = frame + 1\n",
    "            value = (x, y, z)[i]\n",
    "            fcurve.keyframe_points.insert(keyframe, value)    #Keyframes represent our positional information for each frame in our animation\n",
    "            \n",
    "\n",
    "csv_path = r'C:/Users/miham/Documents/Faks/VGRAJENI SISTEMI/landmark_data'\n",
    "csv_names = os.listdir(csv_path)\n",
    "\n",
    "for i in range(1, len(csv_names)):\n",
    "    #iterates through each of our landmark files\n",
    "    path = csv_path + \"/\" + csv_names[i]\n",
    "    \n",
    "    mocap_data = parse_csv_data(path)\n",
    "    sphere = create_sphere(mocap_data[0][1], mocap_data[0][2], mocap_data[0][3])\n",
    "    \n",
    "    create_animation(sphere, mocap_data)\n",
    "\n"
   ]
  },
  {
   "cell_type": "markdown",
   "id": "8b4e875f-61c2-40c2-94c6-658fdf980dae",
   "metadata": {},
   "source": [
    "Po zagonu skripte, bomo na sceni imeli 17 krogel, ki predstavljajo posamezne zaznane mejnike. Vsaka izmed krogel bo imela tudi animacijo, ki predstavlja zajeto gibanje mejnika."
   ]
  },
  {
   "cell_type": "markdown",
   "id": "06234eaf-93f4-4b3b-82c9-b43a07ecc5cf",
   "metadata": {},
   "source": [
    "![blender](./images/blender-scene1.png)"
   ]
  },
  {
   "cell_type": "markdown",
   "id": "c2ab9efe-9ce6-44e4-9257-4728aebfbf02",
   "metadata": {},
   "source": [
    "Krogle lahko nato uporabimo kot \"sklepe\", ki vodijo animacijo modela telesa, ki ga ustvarimo sami. Ustvarjeno telo je preprosto - vsako vozlišče predstavlja en sklep."
   ]
  },
  {
   "cell_type": "markdown",
   "id": "72a19b77-8b5e-42c9-ae61-45bd4355444c",
   "metadata": {},
   "source": [
    "![Blender2](./images/blender-scene2.png)"
   ]
  },
  {
   "cell_type": "markdown",
   "id": "67265925-b020-4a5c-bd49-c78ee8e85e66",
   "metadata": {},
   "source": [
    "## **_Viri_**\n",
    " - Blender API Dokumentacija, _https://docs.blender.org/api/current/_"
   ]
  }
 ],
 "metadata": {
  "kernelspec": {
   "display_name": "Python 3 (ipykernel)",
   "language": "python",
   "name": "python3"
  },
  "language_info": {
   "codemirror_mode": {
    "name": "ipython",
    "version": 3
   },
   "file_extension": ".py",
   "mimetype": "text/x-python",
   "name": "python",
   "nbconvert_exporter": "python",
   "pygments_lexer": "ipython3",
   "version": "3.12.1"
  }
 },
 "nbformat": 4,
 "nbformat_minor": 5
}
